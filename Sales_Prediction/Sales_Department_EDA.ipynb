{
  "nbformat": 4,
  "nbformat_minor": 0,
  "metadata": {
    "colab": {
      "provenance": []
    },
    "kernelspec": {
      "name": "python3",
      "display_name": "Python 3"
    },
    "language_info": {
      "name": "python"
    }
  },
  "cells": [
    {
      "cell_type": "markdown",
      "source": [
        "# The problem Statement"
      ],
      "metadata": {
        "id": "kEJI4hF09zx6"
      }
    },
    {
      "cell_type": "markdown",
      "source": [
        "**Problem:** predict next year’s sales for each store, accounting for seasonality, holidays, promotions, and other external factors, to enable effective marketing planning and resource allocation\n",
        "\n",
        "**Task:** develop a forecasting model to accurately predict daily sales for each store using historical data, incorporating variables such as promotions, holidays, school closures, and customer patterns\n",
        "\n",
        "**Data Source:** https://www.kaggle.com/c/rossmann-store-sales/data\n",
        "\n",
        "**Data fields**\n",
        "Most of the fields are self-explanatory. The following are descriptions for those that aren't.\n",
        "\n",
        "- Id - an Id that represents a (Store, Date) duple within the test set\n",
        "- Store - a unique Id for each store\n",
        "- Sales - the turnover for any given day (our target)\n",
        "- Customers - the number of customers on a given day\n",
        "- Open - an indicator for whether the store was open: 0 = closed, 1 = open\n",
        "- StateHoliday - indicates a state holiday. Normally all stores, with few exceptions, are closed on state holidays. Note that all schools are closed on public holidays and weekends. a = public holiday, b = Easter holiday, c = Christmas, 0 = None\n",
        "- SchoolHoliday - indicates if the (Store, Date) was affected by the closure of public schools\n",
        "- StoreType - differentiates between 4 different store models: a, b, c, d\n",
        "- Assortment - describes an assortment level: a = basic, b = extra, c = extended\n",
        "- CompetitionDistance - distance in meters to the nearest competitor store\n",
        "- CompetitionOpenSince[Month/Year] - gives the approximate year and month of the time the nearest competitor was opened\n",
        "- Promo - indicates whether a store is running a promo on that day\n",
        "- Promo2 - Promo2 is a continuing and consecutive promotion for some stores: 0 = store is not participating, 1 = store is participating\n",
        "- Promo2Since[Year/Week] - describes the year and calendar week when the store started participating in Promo2\n",
        "- PromoInterval - describes the consecutive intervals Promo2 is started, naming the months the promotion is started anew. E.g. \"Feb,May,Aug,Nov\" means each round starts in February, May, August, November of any given year for that store"
      ],
      "metadata": {
        "id": "v2ugnlHJ93VF"
      }
    },
    {
      "cell_type": "markdown",
      "source": [
        "# Import Libriries and Datasets"
      ],
      "metadata": {
        "id": "9tZ_vEW5-6nB"
      }
    },
    {
      "cell_type": "code",
      "source": [
        "import numpy as np\n",
        "import pandas as pd\n",
        "import matplotlib.pyplot as plt\n",
        "import seaborn as sns\n",
        "import datetime"
      ],
      "metadata": {
        "id": "qNDs9L0BCSH8"
      },
      "execution_count": null,
      "outputs": []
    },
    {
      "cell_type": "code",
      "source": [
        "store_data_original = pd.read_csv('store.csv')\n",
        "sales_data_original = pd.read_csv('train.csv')"
      ],
      "metadata": {
        "id": "Vn1XcwdHCk90",
        "colab": {
          "base_uri": "https://localhost:8080/",
          "height": 477
        },
        "outputId": "f4754f92-f9de-4da2-8747-f4d246366171"
      },
      "execution_count": null,
      "outputs": [
        {
          "output_type": "error",
          "ename": "ParserError",
          "evalue": "Error tokenizing data. C error: EOF inside string starting at row 27842",
          "traceback": [
            "\u001b[0;31m---------------------------------------------------------------------------\u001b[0m",
            "\u001b[0;31mParserError\u001b[0m                               Traceback (most recent call last)",
            "\u001b[0;32m<ipython-input-4-39cfb388edfe>\u001b[0m in \u001b[0;36m<cell line: 2>\u001b[0;34m()\u001b[0m\n\u001b[1;32m      1\u001b[0m \u001b[0mstore_data_original\u001b[0m \u001b[0;34m=\u001b[0m \u001b[0mpd\u001b[0m\u001b[0;34m.\u001b[0m\u001b[0mread_csv\u001b[0m\u001b[0;34m(\u001b[0m\u001b[0;34m'store.csv'\u001b[0m\u001b[0;34m)\u001b[0m\u001b[0;34m\u001b[0m\u001b[0;34m\u001b[0m\u001b[0m\n\u001b[0;32m----> 2\u001b[0;31m \u001b[0msales_data_original\u001b[0m \u001b[0;34m=\u001b[0m \u001b[0mpd\u001b[0m\u001b[0;34m.\u001b[0m\u001b[0mread_csv\u001b[0m\u001b[0;34m(\u001b[0m\u001b[0;34m'train.csv'\u001b[0m\u001b[0;34m)\u001b[0m\u001b[0;34m\u001b[0m\u001b[0;34m\u001b[0m\u001b[0m\n\u001b[0m",
            "\u001b[0;32m/usr/local/lib/python3.10/dist-packages/pandas/io/parsers/readers.py\u001b[0m in \u001b[0;36mread_csv\u001b[0;34m(filepath_or_buffer, sep, delimiter, header, names, index_col, usecols, dtype, engine, converters, true_values, false_values, skipinitialspace, skiprows, skipfooter, nrows, na_values, keep_default_na, na_filter, verbose, skip_blank_lines, parse_dates, infer_datetime_format, keep_date_col, date_parser, date_format, dayfirst, cache_dates, iterator, chunksize, compression, thousands, decimal, lineterminator, quotechar, quoting, doublequote, escapechar, comment, encoding, encoding_errors, dialect, on_bad_lines, delim_whitespace, low_memory, memory_map, float_precision, storage_options, dtype_backend)\u001b[0m\n\u001b[1;32m   1024\u001b[0m     \u001b[0mkwds\u001b[0m\u001b[0;34m.\u001b[0m\u001b[0mupdate\u001b[0m\u001b[0;34m(\u001b[0m\u001b[0mkwds_defaults\u001b[0m\u001b[0;34m)\u001b[0m\u001b[0;34m\u001b[0m\u001b[0;34m\u001b[0m\u001b[0m\n\u001b[1;32m   1025\u001b[0m \u001b[0;34m\u001b[0m\u001b[0m\n\u001b[0;32m-> 1026\u001b[0;31m     \u001b[0;32mreturn\u001b[0m \u001b[0m_read\u001b[0m\u001b[0;34m(\u001b[0m\u001b[0mfilepath_or_buffer\u001b[0m\u001b[0;34m,\u001b[0m \u001b[0mkwds\u001b[0m\u001b[0;34m)\u001b[0m\u001b[0;34m\u001b[0m\u001b[0;34m\u001b[0m\u001b[0m\n\u001b[0m\u001b[1;32m   1027\u001b[0m \u001b[0;34m\u001b[0m\u001b[0m\n\u001b[1;32m   1028\u001b[0m \u001b[0;34m\u001b[0m\u001b[0m\n",
            "\u001b[0;32m/usr/local/lib/python3.10/dist-packages/pandas/io/parsers/readers.py\u001b[0m in \u001b[0;36m_read\u001b[0;34m(filepath_or_buffer, kwds)\u001b[0m\n\u001b[1;32m    624\u001b[0m \u001b[0;34m\u001b[0m\u001b[0m\n\u001b[1;32m    625\u001b[0m     \u001b[0;32mwith\u001b[0m \u001b[0mparser\u001b[0m\u001b[0;34m:\u001b[0m\u001b[0;34m\u001b[0m\u001b[0;34m\u001b[0m\u001b[0m\n\u001b[0;32m--> 626\u001b[0;31m         \u001b[0;32mreturn\u001b[0m \u001b[0mparser\u001b[0m\u001b[0;34m.\u001b[0m\u001b[0mread\u001b[0m\u001b[0;34m(\u001b[0m\u001b[0mnrows\u001b[0m\u001b[0;34m)\u001b[0m\u001b[0;34m\u001b[0m\u001b[0;34m\u001b[0m\u001b[0m\n\u001b[0m\u001b[1;32m    627\u001b[0m \u001b[0;34m\u001b[0m\u001b[0m\n\u001b[1;32m    628\u001b[0m \u001b[0;34m\u001b[0m\u001b[0m\n",
            "\u001b[0;32m/usr/local/lib/python3.10/dist-packages/pandas/io/parsers/readers.py\u001b[0m in \u001b[0;36mread\u001b[0;34m(self, nrows)\u001b[0m\n\u001b[1;32m   1921\u001b[0m                     \u001b[0mcolumns\u001b[0m\u001b[0;34m,\u001b[0m\u001b[0;34m\u001b[0m\u001b[0;34m\u001b[0m\u001b[0m\n\u001b[1;32m   1922\u001b[0m                     \u001b[0mcol_dict\u001b[0m\u001b[0;34m,\u001b[0m\u001b[0;34m\u001b[0m\u001b[0;34m\u001b[0m\u001b[0m\n\u001b[0;32m-> 1923\u001b[0;31m                 \u001b[0;34m)\u001b[0m \u001b[0;34m=\u001b[0m \u001b[0mself\u001b[0m\u001b[0;34m.\u001b[0m\u001b[0m_engine\u001b[0m\u001b[0;34m.\u001b[0m\u001b[0mread\u001b[0m\u001b[0;34m(\u001b[0m  \u001b[0;31m# type: ignore[attr-defined]\u001b[0m\u001b[0;34m\u001b[0m\u001b[0;34m\u001b[0m\u001b[0m\n\u001b[0m\u001b[1;32m   1924\u001b[0m                     \u001b[0mnrows\u001b[0m\u001b[0;34m\u001b[0m\u001b[0;34m\u001b[0m\u001b[0m\n\u001b[1;32m   1925\u001b[0m                 )\n",
            "\u001b[0;32m/usr/local/lib/python3.10/dist-packages/pandas/io/parsers/c_parser_wrapper.py\u001b[0m in \u001b[0;36mread\u001b[0;34m(self, nrows)\u001b[0m\n\u001b[1;32m    232\u001b[0m         \u001b[0;32mtry\u001b[0m\u001b[0;34m:\u001b[0m\u001b[0;34m\u001b[0m\u001b[0;34m\u001b[0m\u001b[0m\n\u001b[1;32m    233\u001b[0m             \u001b[0;32mif\u001b[0m \u001b[0mself\u001b[0m\u001b[0;34m.\u001b[0m\u001b[0mlow_memory\u001b[0m\u001b[0;34m:\u001b[0m\u001b[0;34m\u001b[0m\u001b[0;34m\u001b[0m\u001b[0m\n\u001b[0;32m--> 234\u001b[0;31m                 \u001b[0mchunks\u001b[0m \u001b[0;34m=\u001b[0m \u001b[0mself\u001b[0m\u001b[0;34m.\u001b[0m\u001b[0m_reader\u001b[0m\u001b[0;34m.\u001b[0m\u001b[0mread_low_memory\u001b[0m\u001b[0;34m(\u001b[0m\u001b[0mnrows\u001b[0m\u001b[0;34m)\u001b[0m\u001b[0;34m\u001b[0m\u001b[0;34m\u001b[0m\u001b[0m\n\u001b[0m\u001b[1;32m    235\u001b[0m                 \u001b[0;31m# destructive to chunks\u001b[0m\u001b[0;34m\u001b[0m\u001b[0;34m\u001b[0m\u001b[0m\n\u001b[1;32m    236\u001b[0m                 \u001b[0mdata\u001b[0m \u001b[0;34m=\u001b[0m \u001b[0m_concatenate_chunks\u001b[0m\u001b[0;34m(\u001b[0m\u001b[0mchunks\u001b[0m\u001b[0;34m)\u001b[0m\u001b[0;34m\u001b[0m\u001b[0;34m\u001b[0m\u001b[0m\n",
            "\u001b[0;32mparsers.pyx\u001b[0m in \u001b[0;36mpandas._libs.parsers.TextReader.read_low_memory\u001b[0;34m()\u001b[0m\n",
            "\u001b[0;32mparsers.pyx\u001b[0m in \u001b[0;36mpandas._libs.parsers.TextReader._read_rows\u001b[0;34m()\u001b[0m\n",
            "\u001b[0;32mparsers.pyx\u001b[0m in \u001b[0;36mpandas._libs.parsers.TextReader._tokenize_rows\u001b[0;34m()\u001b[0m\n",
            "\u001b[0;32mparsers.pyx\u001b[0m in \u001b[0;36mpandas._libs.parsers.TextReader._check_tokenize_status\u001b[0;34m()\u001b[0m\n",
            "\u001b[0;32mparsers.pyx\u001b[0m in \u001b[0;36mpandas._libs.parsers.raise_parser_error\u001b[0;34m()\u001b[0m\n",
            "\u001b[0;31mParserError\u001b[0m: Error tokenizing data. C error: EOF inside string starting at row 27842"
          ]
        }
      ]
    },
    {
      "cell_type": "code",
      "source": [
        "store_info_data = store_data_original.copy()\n",
        "sales_data = sales_data_original.copy()"
      ],
      "metadata": {
        "id": "qansXFl8VJKj"
      },
      "execution_count": null,
      "outputs": []
    },
    {
      "cell_type": "markdown",
      "source": [
        "# Preliminary data exploration"
      ],
      "metadata": {
        "id": "yUhHh21kTQyl"
      }
    },
    {
      "cell_type": "markdown",
      "source": [
        "##  SALES DATA"
      ],
      "metadata": {
        "id": "zvJ5FdD3S95J"
      }
    },
    {
      "cell_type": "code",
      "source": [
        "sales_data.info()"
      ],
      "metadata": {
        "id": "NgVjRrpNDMNS"
      },
      "execution_count": null,
      "outputs": []
    },
    {
      "cell_type": "code",
      "source": [
        "sales_data.isnull().sum()"
      ],
      "metadata": {
        "id": "aaKYsUJJMhLY"
      },
      "execution_count": null,
      "outputs": []
    },
    {
      "cell_type": "markdown",
      "source": [
        "The sales_data dataset does not have any missing values."
      ],
      "metadata": {
        "id": "7eiBVndUnwPV"
      }
    },
    {
      "cell_type": "code",
      "source": [
        "sales_data.head()"
      ],
      "metadata": {
        "id": "aIPiL1qCokXW"
      },
      "execution_count": null,
      "outputs": []
    },
    {
      "cell_type": "code",
      "source": [
        "# let's check values in DayOfWeek,\tOpen,\tPromo,\tStateHoliday,\tSchoolHoliday columns\n",
        "for col in ['DayOfWeek', 'Open', 'Promo', 'StateHoliday', 'SchoolHoliday']:\n",
        "    print(f'{col}: {sales_data[col].unique()}')"
      ],
      "metadata": {
        "id": "YqmT1vteK8kA"
      },
      "execution_count": null,
      "outputs": []
    },
    {
      "cell_type": "markdown",
      "source": [
        "We need to update the data in the StateHoliday column based on the list above, where a = public holiday, b = Easter holiday, c = Christmas, and 0 = regular day, ensuring no data type conflicts or misleading results. Additionally, we should convert both the StateHoliday and DayOfWeek columns to the category data type."
      ],
      "metadata": {
        "id": "WtD3XY4gNUVk"
      }
    },
    {
      "cell_type": "code",
      "source": [
        "# Replace the data and convert it in category\n",
        "sales_data['StateHoliday'] = sales_data['StateHoliday'].map({'a': 'Public_holiday',\n",
        "                                                             'b': 'Easter_holiday',\n",
        "                                                             'c': 'Christmas',\n",
        "                                                             '0': 'regular_day',}).astype('category')"
      ],
      "metadata": {
        "id": "Re2naUSULmHg"
      },
      "execution_count": null,
      "outputs": []
    },
    {
      "cell_type": "code",
      "source": [
        "dummies = pd.get_dummies(sales_data['StateHoliday']).astype(int)\n",
        "dummies = dummies.drop('regular_day', axis=1)\n",
        "sales_data = pd.concat([sales_data, dummies], axis=1).drop('StateHoliday', axis=1)"
      ],
      "metadata": {
        "id": "ucFTMaOCoSNB"
      },
      "execution_count": null,
      "outputs": []
    },
    {
      "cell_type": "code",
      "source": [
        "sales_data.info()"
      ],
      "metadata": {
        "id": "_sgqks_QNkVF"
      },
      "execution_count": null,
      "outputs": []
    },
    {
      "cell_type": "code",
      "source": [
        "sales_data.hist(bins=30, figsize=(20, 20), color='#074799')\n",
        "plt.show()"
      ],
      "metadata": {
        "id": "DmF8kqnwMhOQ"
      },
      "execution_count": null,
      "outputs": []
    },
    {
      "cell_type": "code",
      "source": [
        "sales_data['Customers'].max()"
      ],
      "metadata": {
        "id": "aq1AOP-XMhR2"
      },
      "execution_count": null,
      "outputs": []
    },
    {
      "cell_type": "markdown",
      "source": [
        "- The store typically sees 600 customers per day, with a peak of 4,500 customers (an outlier of 7,388 exists).\n",
        "- Customer data is consistently spread across the week, with around 150,000 observations per day, totaling roughly 1.1 million observations.\n",
        "- Most entries indicate that stores are open (value = 1).\n",
        "- The data is evenly distributed among all stores, eliminating any potential bias.\n",
        "- Promotional campaign #1 ran for about 40% of the time.\n",
        "- Average sales fluctuate between €5,000 and €6,000.\n",
        "- School holidays represent approximately 20% of the timeframe."
      ],
      "metadata": {
        "id": "DZJw4dNURjMb"
      }
    },
    {
      "cell_type": "code",
      "source": [
        "sales_data['Open'].value_counts().plot(\n",
        "    kind='pie',\n",
        "    labels=['Open', 'Closed'],\n",
        "    autopct='%1.1f%%',\n",
        "    title='Store Status',\n",
        "    ylabel=''\n",
        ")\n",
        "plt.show()"
      ],
      "metadata": {
        "id": "a92Hh4aqSNW7"
      },
      "execution_count": null,
      "outputs": []
    },
    {
      "cell_type": "code",
      "source": [
        "# let's filter data removing info about closed stores\n",
        "sales_data = sales_data[sales_data['Open'] == 1]\n",
        "sales_data = sales_data.drop('Open', axis=1)"
      ],
      "metadata": {
        "id": "xKl3F2M-SNlq"
      },
      "execution_count": null,
      "outputs": []
    },
    {
      "cell_type": "code",
      "source": [
        "sales_data.describe()"
      ],
      "metadata": {
        "id": "TCO3qo2_SNtn"
      },
      "execution_count": null,
      "outputs": []
    },
    {
      "cell_type": "markdown",
      "source": [
        "## STORES INFORMATION DATA"
      ],
      "metadata": {
        "id": "ppYIU0BWTCyJ"
      }
    },
    {
      "cell_type": "code",
      "source": [
        "store_info_data.info()"
      ],
      "metadata": {
        "id": "htdfNzdZG-Th"
      },
      "execution_count": null,
      "outputs": []
    },
    {
      "cell_type": "code",
      "source": [
        "store_info_data.isnull().sum()"
      ],
      "metadata": {
        "id": "nWsY_gkyMiVK"
      },
      "execution_count": null,
      "outputs": []
    },
    {
      "cell_type": "markdown",
      "source": [
        "**Half of the columns in the store data contain null values. Let's fix it**"
      ],
      "metadata": {
        "id": "ZVBpcxGmoYPN"
      }
    },
    {
      "cell_type": "code",
      "source": [
        "store_info_data[store_info_data['CompetitionDistance'].isnull()]"
      ],
      "metadata": {
        "id": "C6duQzcmMiYg"
      },
      "execution_count": null,
      "outputs": []
    },
    {
      "cell_type": "code",
      "source": [
        "# Let's replace the NaN values in the CompetitionDistance column with the mean for that category\n",
        "\n",
        "store_info_data['CompetitionDistance'] = store_info_data['CompetitionDistance'].fillna(store_info_data['CompetitionDistance'].mean())\n",
        "store_info_data[(store_info_data.index == 290) | (store_info_data.index == 878)]"
      ],
      "metadata": {
        "id": "af8GVBshZCms"
      },
      "execution_count": null,
      "outputs": []
    },
    {
      "cell_type": "code",
      "source": [
        "store_info_data[store_info_data['CompetitionOpenSinceMonth'].isnull()]"
      ],
      "metadata": {
        "id": "jhfyolySMicO"
      },
      "execution_count": null,
      "outputs": []
    },
    {
      "cell_type": "markdown",
      "source": [
        "**Let's replace the NaN values in'CompetitionOpenSinceMonth', 'CompetitionOpenSinceYear', 'Promo2SinceWeek', 'Promo2SinceYear' with 0**\n"
      ],
      "metadata": {
        "id": "-IOAriBlIDD7"
      }
    },
    {
      "cell_type": "code",
      "source": [
        "cols_for_null = ['CompetitionOpenSinceMonth', 'CompetitionOpenSinceYear', 'Promo2SinceWeek', 'Promo2SinceYear']"
      ],
      "metadata": {
        "id": "LRn18eg9Mifd"
      },
      "execution_count": null,
      "outputs": []
    },
    {
      "cell_type": "code",
      "source": [
        "for col in cols_for_null:\n",
        "    store_info_data[col] = store_info_data[col].fillna(0)"
      ],
      "metadata": {
        "id": "71t9v52cXoMj"
      },
      "execution_count": null,
      "outputs": []
    },
    {
      "cell_type": "code",
      "source": [
        "store_info_data.hist(bins=30, figsize=(20, 20), color='#001A6E')\n",
        "plt.show()"
      ],
      "metadata": {
        "id": "B3s4x4d6XoP7"
      },
      "execution_count": null,
      "outputs": []
    },
    {
      "cell_type": "code",
      "source": [
        "store_info_data.describe()"
      ],
      "metadata": {
        "id": "PjvjC_i_EVRY"
      },
      "execution_count": null,
      "outputs": []
    },
    {
      "cell_type": "markdown",
      "source": [
        "## Features visualisation"
      ],
      "metadata": {
        "id": "D4wOKxxSR2as"
      }
    },
    {
      "cell_type": "code",
      "source": [
        "# merge df\n",
        "sales_stores_df = pd.merge(sales_data, store_info_data, on='Store', how='inner')"
      ],
      "metadata": {
        "id": "ZZWyGRTKXnsU"
      },
      "execution_count": null,
      "outputs": []
    },
    {
      "cell_type": "code",
      "source": [
        "sales_stores_df.head()"
      ],
      "metadata": {
        "id": "buZcpEvwMjk-"
      },
      "execution_count": null,
      "outputs": []
    },
    {
      "cell_type": "code",
      "source": [
        "# Convert the 'Date' column to datetime objects\n",
        "sales_stores_df['Date'] = pd.to_datetime(sales_stores_df['Date'])\n",
        "\n",
        "# Extract numerical features from the 'Date' column\n",
        "sales_stores_df['Year'] = sales_stores_df['Date'].dt.year\n",
        "sales_stores_df['Month'] = sales_stores_df['Date'].dt.month\n",
        "sales_stores_df['Day'] = sales_stores_df['Date'].dt.day\n",
        "sales_stores_df['DayOfWeek_num'] = sales_stores_df['Date'].dt.dayofweek  # Monday=0, Sunday=6"
      ],
      "metadata": {
        "id": "dT-IRI96c70g"
      },
      "execution_count": null,
      "outputs": []
    },
    {
      "cell_type": "code",
      "source": [
        "sales_stores_df.info()"
      ],
      "metadata": {
        "id": "xBDcD4QMnQWC"
      },
      "execution_count": null,
      "outputs": []
    },
    {
      "cell_type": "code",
      "source": [
        "sales_corr = sales_stores_df.select_dtypes(include=np.number).corr()['Sales'].sort_values()\n",
        "sales_corr"
      ],
      "metadata": {
        "id": "SD6zf8BwMjy3"
      },
      "execution_count": null,
      "outputs": []
    },
    {
      "cell_type": "markdown",
      "source": [
        "**Our target variable (Sales) shows a strong correlation with Customers (0.82) and a moderate correlation with Promo (0.37).**\n",
        "\n",
        "\n"
      ],
      "metadata": {
        "id": "OByz8rrSdxJx"
      }
    },
    {
      "cell_type": "code",
      "source": [
        "corr_all = sales_stores_df.select_dtypes(include=np.number).corr()\n",
        "f, ax = plt.subplots(figsize=(20, 20))\n",
        "sns.heatmap(corr_all, annot=True, cmap='coolwarm')\n",
        "plt.show()"
      ],
      "metadata": {
        "id": "3Ei0sEFNdiAN"
      },
      "execution_count": null,
      "outputs": []
    },
    {
      "cell_type": "markdown",
      "source": [
        "**Strong Correlations:**\n",
        "\n",
        "- Sales has a very strong positive correlation with Customers (0.82), indicating that higher customer counts are strongly associated with increased sales.\n",
        "- Promo moderately correlates with Sales (0.37), suggesting that promotional activities positively impact sales, though not as significantly as customer count.\n",
        "\n",
        "**Promo and Related Variables:**\n",
        "\n",
        "- Promo2 is highly correlated with Promo2SinceYear and Promo2SinceWeek (~0.76), which is expected as these variables are closely related.\n",
        "\n",
        "**Competition Variables:**\n",
        "\n",
        "- CompetitionOpenSinceMonth and CompetitionOpenSinceYear show a strong correlation (~0.79), reflecting the time-based relationship between these fields.\n",
        "- CompetitionDistance has weak correlations with other variables, indicating limited direct influence on key metrics like sales or promotions.\n",
        "\n",
        "**Time-Based Features:**\n",
        "\n",
        "- Month, Day, and Year generally show weak correlations with other variables, implying they might not significantly affect sales directly in this dataset."
      ],
      "metadata": {
        "id": "bhyFNDvWfm0s"
      }
    },
    {
      "cell_type": "code",
      "source": [
        "# Let's check monthly trends in sales and customers\n",
        "monthly_data = sales_stores_df.groupby(\"Month\")[['Sales', 'Customers']].mean()\n",
        "\n",
        "fig, ax = plt.subplots(2, 1, figsize=(15, 12))\n",
        "\n",
        "\n",
        "monthly_data['Sales'].plot(ax=ax[0], marker='o',  color='#001A6E',  title=\"Monthly Trends in Sales\")\n",
        "ax[0].set_ylabel(\"Average Sales\")\n",
        "ax[0].set_xlabel(\"Month\")\n",
        "\n",
        "monthly_data['Customers'].plot(ax=ax[1],  marker='o',   color='r',  title=\"Monthly Trends in Customer Numbers\")\n",
        "ax[1].set_ylabel(\"Average Customers\")\n",
        "ax[1].set_xlabel(\"Month\")\n",
        "\n",
        "\n",
        "plt.tight_layout()\n",
        "plt.show()"
      ],
      "metadata": {
        "id": "RoD5V2Wli1el"
      },
      "execution_count": null,
      "outputs": []
    },
    {
      "cell_type": "code",
      "source": [
        "# Weekly data\n",
        "weekly_data = sales_stores_df.groupby(\"DayOfWeek_num\")[['Sales', 'Customers']].mean()\n",
        "\n",
        "fig, ax = plt.subplots(2, 1, figsize=(15, 12))\n",
        "\n",
        "weekly_data['Sales'].plot(ax=ax[0], marker='o', color='#001A6E',  title=\"Weekly Trends in Sales\")\n",
        "ax[0].set_ylabel(\"Average Sales\")\n",
        "ax[0].set_xlabel(\"Day Of Week\")\n",
        "\n",
        "weekly_data['Customers'].plot(ax=ax[1],  marker='o',  color='r',  title=\"Weekly Trends in Customer Numbers\")\n",
        "ax[1].set_ylabel(\"Average Customers\")\n",
        "ax[1].set_xlabel(\"Day of Week\")\n",
        "\n",
        "plt.tight_layout()\n",
        "plt.show()"
      ],
      "metadata": {
        "id": "aK7LqQnvheiB"
      },
      "execution_count": null,
      "outputs": []
    },
    {
      "cell_type": "code",
      "source": [
        "# Let's check daily trends in sales and customers\n",
        "daily_data = sales_stores_df.groupby(\"Day\")[['Sales', 'Customers']].mean()\n",
        "\n",
        "fig, ax = plt.subplots(2, 1, figsize=(15, 12))\n",
        "\n",
        "\n",
        "daily_data['Sales'].plot(ax=ax[0], marker='o',  color='#001A6E',  title=\"Daily Trends in Sales\")\n",
        "ax[0].set_ylabel(\"Average Sales\")\n",
        "ax[0].set_xlabel(\"Day\")\n",
        "\n",
        "daily_data['Customers'].plot(ax=ax[1],  marker='o',   color='r',  title=\"Daily Trends in Customer Numbers\")\n",
        "ax[1].set_ylabel(\"Average Customers\")\n",
        "ax[1].set_xlabel(\"Day\")\n",
        "\n",
        "\n",
        "plt.tight_layout()\n",
        "plt.show()"
      ],
      "metadata": {
        "id": "m6uaBbu2hets"
      },
      "execution_count": null,
      "outputs": []
    },
    {
      "cell_type": "code",
      "source": [
        "sales_stores_df.groupby(['Date', 'StoreType'])['Sales'].mean().unstack().plot(figsize=(15, 8))\n",
        "plt.title('Average Sales by Store Type')\n",
        "plt.ylabel('Average Sales')\n",
        "plt.show()"
      ],
      "metadata": {
        "id": "wWpEPtzUqBg6"
      },
      "execution_count": null,
      "outputs": []
    },
    {
      "cell_type": "code",
      "source": [
        "plt.figure(figsize=[15,10])\n",
        "\n",
        "plt.subplot(211)\n",
        "sns.barplot(x='Promo', y='Sales', data=sales_stores_df)\n",
        "\n",
        "plt.subplot(212)\n",
        "sns.barplot(x='Promo', y='Customers', data=sales_stores_df)\n",
        "\n",
        "plt.show()"
      ],
      "metadata": {
        "id": "BvvT4OBNqBoV"
      },
      "execution_count": null,
      "outputs": []
    },
    {
      "cell_type": "code",
      "source": [
        "sales_stores_df.to_csv('sales_stores_preprocessed.csv')"
      ],
      "metadata": {
        "id": "8a827MqFqBrC"
      },
      "execution_count": null,
      "outputs": []
    },
    {
      "cell_type": "markdown",
      "source": [
        "# MODEL"
      ],
      "metadata": {
        "id": "3KDWhg7SSEft"
      }
    },
    {
      "cell_type": "code",
      "source": [
        "!pip install prophet"
      ],
      "metadata": {
        "id": "GsmgORphwRp-"
      },
      "execution_count": null,
      "outputs": []
    },
    {
      "cell_type": "code",
      "source": [
        "from prophet import Prophet"
      ],
      "metadata": {
        "id": "iysPLieAwRw7"
      },
      "execution_count": null,
      "outputs": []
    },
    {
      "cell_type": "code",
      "source": [
        "df = pd.read_csv('sales_stores_preprocessed.csv')"
      ],
      "metadata": {
        "id": "gMIipRbLwM2q"
      },
      "execution_count": null,
      "outputs": []
    },
    {
      "cell_type": "code",
      "source": [
        "def sales_predictions(Store_ID, sales_df, periods):\n",
        "  sales_df = sales_df[sales_df[\"Store\"] == Store_ID]\n",
        "  sales_df = sales_df[['Date', 'Sales']].rename(columns={'Date': 'ds', 'Sales': 'y'})\n",
        "  sales_df = sales_df.sort_values('ds')\n",
        "\n",
        "  model = Prophet()\n",
        "  model.fit(sales_df)\n",
        "\n",
        "  future = model.make_future_dataframe(periods=periods)\n",
        "  predictions = model.predict(future)\n",
        "  figure = model.plot(predictions, xlabel='Date', ylabel='Sales')\n",
        "  figure2 = model.plot_components(predictions)\n"
      ],
      "metadata": {
        "id": "g8RIdZSVxxg7"
      },
      "execution_count": null,
      "outputs": []
    },
    {
      "cell_type": "code",
      "source": [
        "sales_predictions(1, df, 300)"
      ],
      "metadata": {
        "id": "GwAfcGTpykT0"
      },
      "execution_count": null,
      "outputs": []
    }
  ]
}